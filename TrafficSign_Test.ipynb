{
 "cells": [
  {
   "cell_type": "code",
   "execution_count": null,
   "source": [
    "import numpy as np\r\n",
    "import cv2\r\n",
    "import pickle"
   ],
   "outputs": [],
   "metadata": {}
  },
  {
   "cell_type": "code",
   "execution_count": 8,
   "source": [
    "frameWidth= 640         # CAMERA RESOLUTION\r\n",
    "frameHeight = 480\r\n",
    "brightness = 180\r\n",
    "threshold = 0.75         # PROBABLITY THRESHOLD\r\n",
    "font = cv2.FONT_HERSHEY_SIMPLEX"
   ],
   "outputs": [],
   "metadata": {}
  },
  {
   "cell_type": "code",
   "execution_count": null,
   "source": [
    "cap = cv2.VideoCapture(0)\r\n",
    "cap.set(3, frameWidth)\r\n",
    "cap.set(4, frameHeight)\r\n",
    "cap.set(10, brightness)"
   ],
   "outputs": [],
   "metadata": {}
  },
  {
   "cell_type": "code",
   "execution_count": null,
   "source": [
    "pickle_in=open(\"model_trained.p\",\"rb\")  ## rb = READ BYTE\r\n",
    "model=pickle.load(pickle_in)"
   ],
   "outputs": [],
   "metadata": {}
  },
  {
   "cell_type": "code",
   "execution_count": null,
   "source": [
    "def grayscale(img):\r\n",
    "    img = cv2.cvtColor(img,cv2.COLOR_BGR2GRAY)\r\n",
    "    return img\r\n",
    "    \r\n",
    "def equalize(img):\r\n",
    "    img =cv2.equalizeHist(img)\r\n",
    "    return img\r\n",
    "\r\n",
    "def preprocessing(img):\r\n",
    "    img = grayscale(img)\r\n",
    "    img = equalize(img)\r\n",
    "    img = img/255\r\n",
    "    return img"
   ],
   "outputs": [],
   "metadata": {}
  },
  {
   "cell_type": "code",
   "execution_count": null,
   "source": [
    "def getCalssName(classNo):\r\n",
    "    if   classNo == 0: return 'Speed Limit 20 km/h'\r\n",
    "    elif classNo == 1: return 'Speed Limit 30 km/h'\r\n",
    "    elif classNo == 2: return 'Speed Limit 50 km/h'\r\n",
    "    elif classNo == 3: return 'Speed Limit 60 km/h'\r\n",
    "    elif classNo == 4: return 'Speed Limit 70 km/h'\r\n",
    "    elif classNo == 5: return 'Speed Limit 80 km/h'\r\n",
    "    elif classNo == 6: return 'End of Speed Limit 80 km/h'\r\n",
    "    elif classNo == 7: return 'Speed Limit 100 km/h'\r\n",
    "    elif classNo == 8: return 'Speed Limit 120 km/h'\r\n",
    "    elif classNo == 9: return 'No passing'\r\n",
    "    elif classNo == 10: return 'No passing for vechiles over 3.5 metric tons'\r\n",
    "    elif classNo == 11: return 'Right-of-way at the next intersection'\r\n",
    "    elif classNo == 12: return 'Priority road'\r\n",
    "    elif classNo == 13: return 'Yield'\r\n",
    "    elif classNo == 14: return 'Stop'\r\n",
    "    elif classNo == 15: return 'No vechiles'\r\n",
    "    elif classNo == 16: return 'Vechiles over 3.5 metric tons prohibited'\r\n",
    "    elif classNo == 17: return 'No entry'\r\n",
    "    elif classNo == 18: return 'General caution'\r\n",
    "    elif classNo == 19: return 'Dangerous curve to the left'\r\n",
    "    elif classNo == 20: return 'Dangerous curve to the right'\r\n",
    "    elif classNo == 21: return 'Double curve'\r\n",
    "    elif classNo == 22: return 'Bumpy road'\r\n",
    "    elif classNo == 23: return 'Slippery road'\r\n",
    "    elif classNo == 24: return 'Road narrows on the right'\r\n",
    "    elif classNo == 25: return 'Road work'\r\n",
    "    elif classNo == 26: return 'Traffic signals'\r\n",
    "    elif classNo == 27: return 'Pedestrians'\r\n",
    "    elif classNo == 28: return 'Children crossing'\r\n",
    "    elif classNo == 29: return 'Bicycles crossing'\r\n",
    "    elif classNo == 30: return 'Beware of ice/snow'\r\n",
    "    elif classNo == 31: return 'Wild animals crossing'\r\n",
    "    elif classNo == 32: return 'End of all speed and passing limits'\r\n",
    "    elif classNo == 33: return 'Turn right ahead'\r\n",
    "    elif classNo == 34: return 'Turn left ahead'\r\n",
    "    elif classNo == 35: return 'Ahead only'\r\n",
    "    elif classNo == 36: return 'Go straight or right'\r\n",
    "    elif classNo == 37: return 'Go straight or left'\r\n",
    "    elif classNo == 38: return 'Keep right'\r\n",
    "    elif classNo == 39: return 'Keep left'\r\n",
    "    elif classNo == 40: return 'Roundabout mandatory'\r\n",
    "    elif classNo == 41: return 'End of no passing'\r\n",
    "    elif classNo == 42: return 'End of no passing by vechiles over 3.5 metric tons'"
   ],
   "outputs": [],
   "metadata": {}
  },
  {
   "cell_type": "code",
   "execution_count": null,
   "source": [
    "while True:\r\n",
    " \r\n",
    "# READ IMAGE\r\n",
    "    success, imgOrignal = cap.read()\r\n",
    " \r\n",
    "# PROCESS IMAGE\r\n",
    "    img = np.asarray(imgOrignal)\r\n",
    "    img = cv2.resize(img, (32, 32))\r\n",
    "    img = preprocessing(img)\r\n",
    "    cv2.imshow(\"Processed Image\", img)\r\n",
    "    img = img.reshape(1, 32, 32, 1)\r\n",
    "    cv2.putText(imgOrignal, \"CLASS: \" , (20, 35), font, 0.75, (0, 0, 255), 2, cv2.LINE_AA)\r\n",
    "    cv2.putText(imgOrignal, \"PROBABILITY: \", (20, 75), font, 0.75, (0, 0, 255), 2, cv2.LINE_AA)\r\n",
    "    # PREDICT IMAGE\r\n",
    "    predictions = model.predict(img)\r\n",
    "    classIndex = model.predict_classes(img)\r\n",
    "    probabilityValue =np.amax(predictions)\r\n",
    "    if probabilityValue > threshold:\r\n",
    "        #print(getCalssName(classIndex))\r\n",
    "        cv2.putText(imgOrignal,str(classIndex)+\" \"+str(getCalssName(classIndex)), (120, 35), font, 0.75, (0, 0, 255), 2, cv2.LINE_AA)\r\n",
    "        cv2.putText(imgOrignal, str(round(probabilityValue*100,2) )+\"%\", (180, 75), font, 0.75, (0, 0, 255), 2, cv2.LINE_AA)\r\n",
    "        cv2.imshow(\"Result\", imgOrignal)\r\n",
    "    \r\n",
    "    if cv2.waitKey(1) and 0xFF == ord('q'):\r\n",
    "        break"
   ],
   "outputs": [],
   "metadata": {}
  },
  {
   "cell_type": "code",
   "execution_count": null,
   "source": [],
   "outputs": [],
   "metadata": {}
  }
 ],
 "metadata": {
  "orig_nbformat": 4,
  "language_info": {
   "name": "python",
   "version": "3.6.8",
   "mimetype": "text/x-python",
   "codemirror_mode": {
    "name": "ipython",
    "version": 3
   },
   "pygments_lexer": "ipython3",
   "nbconvert_exporter": "python",
   "file_extension": ".py"
  },
  "kernelspec": {
   "name": "python3",
   "display_name": "Python 3.6.8 64-bit"
  },
  "interpreter": {
   "hash": "02b1dde27e87edefdf863d7c5938f5ab14d0dbf5d66335f903d8a417c652c631"
  }
 },
 "nbformat": 4,
 "nbformat_minor": 2
}